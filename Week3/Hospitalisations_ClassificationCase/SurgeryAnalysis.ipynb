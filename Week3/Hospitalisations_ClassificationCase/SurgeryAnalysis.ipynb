{
 "cells": [
  {
   "cell_type": "markdown",
   "metadata": {},
   "source": [
    "# Classifying patients before hip/knee surgery\n",
    "\n",
    "The data for this exercise is from about 20000 hip/knee surgeries performed over a period of a few years. The data from the first years constitute the training case, while the last year is used for testing. In this way, one also preserves the \"causal\" order, i.e. not getting information from the \"future to predict in the past\".\n",
    "\n",
    "For training, there are two datasets:\n",
    "* X_train.csv, i.e. the input features (x0-x31, i.e. 32 in total).\n",
    "* y_train.csv, i.e. the target class (y: 0/1, along with y_ML and y_LR from ML and Logistic Regresion, respectively).\n",
    "\n",
    "The names of the input features has been renamed X0, X1, etc. in order to keep the data as anonymous as possible, and it should be stressed, that it is data **owned** by a research group in Denmark, and not for general use. The outcome/target is whether there were (i.e. are expected) medical complications, which is very useful to know **ahead** of the surgery. This is contained in the separate files \"y_train\", and the purpose is to predict this. Here, also two \"competitor\n",
    "\n",
    "The data has got some missing values and other flaws to consider, before applying any further data analysis, but this should be a minor issue. A larger issue of concern is, that the data is **unbalanced**, in that medical complications are rare, and only occur for about 5% of the cases! That is of course good in the real world, but a challenge when trying to train on it.\n",
    "\n",
    "### Questions:\n",
    "Try to see, if you can answer the following questions:<br>\n",
    "1) What loss function do you use?<br>\n",
    "2) How to counter the problem with the unbalanced data set?<br>\n",
    "3) How to deal with the missing values? Do you impute?<br>\n",
    "4) How well can you classify the patients at risk of medical complications?<br>\n",
    "\n",
    "The hospitals estimate, that they can keep about 20% of the patients, and the goal is really to keep the largest number of medical complications in hospital, while accepting that most patients will not have such complications, even if they are at risk. This information should influence your choice of loss function. \n",
    "\n",
    "***\n",
    "\n",
    "* Author: Troels C. Petersen (NBI) & Christian Michelsen (NBI)\n",
    "* Email:  petersen@nbi.dk\n",
    "* Date:   5th of May 2021 (latest version)"
   ]
  },
  {
   "cell_type": "code",
   "execution_count": null,
   "metadata": {},
   "outputs": [],
   "source": [
    "import pandas as pd\n",
    "\n",
    "# Input features (X):\n",
    "X_train = pd.read_csv(\"X_train.csv\")\n",
    "\n",
    "# Target values (0/1), along with two \"competitor\" algorithm predictions (for comparison):\n",
    "df_y = pd.read_csv(\"y_train.csv\")\n",
    "y_train = df_y[\"y\"]\n",
    "\n",
    "# In the end, you want to apply your best model to the test data set:\n",
    "X_test = pd.read_csv(\"X_test.csv\")"
   ]
  }
 ],
 "metadata": {
  "kernelspec": {
   "display_name": "Python 3",
   "language": "python",
   "name": "python3"
  },
  "language_info": {
   "codemirror_mode": {
    "name": "ipython",
    "version": 3
   },
   "file_extension": ".py",
   "mimetype": "text/x-python",
   "name": "python",
   "nbconvert_exporter": "python",
   "pygments_lexer": "ipython3",
   "version": "3.7.6"
  }
 },
 "nbformat": 4,
 "nbformat_minor": 4
}
