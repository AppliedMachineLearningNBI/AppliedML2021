{
 "cells": [
  {
   "cell_type": "markdown",
   "metadata": {},
   "source": [
    "Hi! This is a tensorflow binary classification example built with inspiration from https://blog.cmgresearch.com/2020/09/06/tensorflow-binary-classification.html \n",
    "\n",
    "The link contains additional explanitory text and short 5-minute youtube video explaining core concepts."
   ]
  },
  {
   "cell_type": "code",
   "execution_count": 1,
   "metadata": {},
   "outputs": [
    {
     "name": "stdout",
     "output_type": "stream",
     "text": [
      "Index(['energy', 'cTheta', 'phi', 'prob_b', 'spheri', 'pt2rel', 'multip',\n",
      "       'bqvjet', 'ptlrel', 'nnbjet', 'isb'],\n",
      "      dtype='object')\n"
     ]
    }
   ],
   "source": [
    "### TENSORFLOW CLASSIFICATION EXAMPLE\n",
    "# \n",
    "# Author: Rasmus F. Ørsøe\n",
    "# email: pcs557@alumni.ku.dk\n",
    "#\n",
    "\n",
    "import pandas as pd\n",
    "import numpy as np\n",
    "import tensorflow as tf\n",
    "import sklearn as sk\n",
    "from tensorflow.keras.models import Sequential\n",
    "from tensorflow.keras.layers import Dense\n",
    "from sklearn.model_selection import train_test_split\n",
    "import matplotlib.pyplot as plt\n",
    "from sklearn.metrics import roc_curve\n",
    "from sklearn.metrics import auc\n",
    "\n",
    "# Load 2nd version of the Aleph Data. Why not the first?\n",
    "path = 'AlephBtag_MC_small_v2.csv'\n",
    "data = pd.DataFrame(np.genfromtxt(path, names=True))\n",
    "variables = data.columns\n",
    "print(variables)"
   ]
  },
  {
   "cell_type": "markdown",
   "metadata": {},
   "source": [
    "Remember: 'isb' is our binary truth. If isb = 1 then it's a b-quark and isb = 0 if it is not. Because this is our truth, we must not include it as the input to our model. Also, 'nnbjet' is our \"competitor\" e.g. a model we are supposed to benchmark against. Therefore 'nnbjet' shouldn't be in our input either. Usually one would apply regularization/standardization of data at this step - but lets skip this for now and just move onto seperate the data into input, truth and benchmark:"
   ]
  },
  {
   "cell_type": "code",
   "execution_count": 2,
   "metadata": {},
   "outputs": [
    {
     "name": "stdout",
     "output_type": "stream",
     "text": [
      "Index(['energy', 'cTheta', 'phi', 'prob_b', 'spheri', 'pt2rel', 'multip',\n",
      "       'bqvjet', 'ptlrel'],\n",
      "      dtype='object')\n"
     ]
    }
   ],
   "source": [
    "input_variables = variables[(variables != 'nnbjet') & (variables != 'isb')]\n",
    "input_data      = data[input_variables]\n",
    "truth           = data['isb']\n",
    "benchmark       = data['nnbjet']\n",
    "print(input_variables)"
   ]
  },
  {
   "cell_type": "markdown",
   "metadata": {},
   "source": [
    "Let us now divide the truth and input_data into two parts; a training sample and a validation sample:"
   ]
  },
  {
   "cell_type": "code",
   "execution_count": 3,
   "metadata": {},
   "outputs": [],
   "source": [
    "input_train, input_valid, truth_train, truth_valid = train_test_split(input_data, truth, test_size=0.25, random_state=42)"
   ]
  },
  {
   "cell_type": "markdown",
   "metadata": {},
   "source": [
    "Let us now define the tensorflow model:"
   ]
  },
  {
   "cell_type": "code",
   "execution_count": 4,
   "metadata": {},
   "outputs": [],
   "source": [
    "model = Sequential([\n",
    "    Dense(9,activation='relu',name='input_layer'),\n",
    "    Dense(24,activation='relu',name='hidden_layer1'),\n",
    "    Dense(12,activation='relu',name='hidden_layer2'),\n",
    "    Dense(1, activation='sigmoid', name='output')])\n",
    "model.compile(optimizer='adam',\n",
    "              loss=tf.keras.losses.BinaryCrossentropy(),\n",
    "              metrics=[tf.keras.losses.BinaryCrossentropy()])"
   ]
  },
  {
   "cell_type": "markdown",
   "metadata": {},
   "source": [
    "Now we are ready to train! "
   ]
  },
  {
   "cell_type": "code",
   "execution_count": 5,
   "metadata": {},
   "outputs": [
    {
     "name": "stdout",
     "output_type": "stream",
     "text": [
      "--------- TRAINING ---------\n",
      "Train on 25476 samples, validate on 8492 samples\n",
      "Epoch 1/5\n",
      "25476/25476 [==============================] - 2s 94us/sample - loss: 0.4992 - binary_crossentropy: 0.4988 - val_loss: 0.4298 - val_binary_crossentropy: 0.4304\n",
      "Epoch 2/5\n",
      "25476/25476 [==============================] - 1s 52us/sample - loss: 0.3260 - binary_crossentropy: 0.3261 - val_loss: 0.3030 - val_binary_crossentropy: 0.3036\n",
      "Epoch 3/5\n",
      "25476/25476 [==============================] - 1s 52us/sample - loss: 0.2806 - binary_crossentropy: 0.2807 - val_loss: 0.2836 - val_binary_crossentropy: 0.2840\n",
      "Epoch 4/5\n",
      "25476/25476 [==============================] - 1s 57us/sample - loss: 0.2718 - binary_crossentropy: 0.2718 - val_loss: 0.2622 - val_binary_crossentropy: 0.2624\n",
      "Epoch 5/5\n",
      "25476/25476 [==============================] - 1s 56us/sample - loss: 0.2679 - binary_crossentropy: 0.2677 - val_loss: 0.2826 - val_binary_crossentropy: 0.2830\n"
     ]
    }
   ],
   "source": [
    "print('--------- TRAINING ---------')\n",
    "history = model.fit(x = np.array(input_train), y = np.array(truth_train), validation_data=(np.array(input_valid), np.array(truth_valid)), epochs = 5)  \n",
    "## This trains the model on input_train by comparing to the true values in truth_train. After every epoch of training, the model is evaluated on the validation dataset, \n",
    "## namely input_valid and truth_valid."
   ]
  },
  {
   "cell_type": "markdown",
   "metadata": {},
   "source": [
    "We can now extract information from the training and validation by accessing history.history :"
   ]
  },
  {
   "cell_type": "code",
   "execution_count": 6,
   "metadata": {},
   "outputs": [
    {
     "data": {
      "text/plain": [
       "(array([0.25, 0.3 , 0.35, 0.4 , 0.45, 0.5 , 0.55]),\n",
       " <a list of 7 Text yticklabel objects>)"
      ]
     },
     "execution_count": 6,
     "metadata": {},
     "output_type": "execute_result"
    },
    {
     "data": {
      "image/png": "[encoded data removed]",
      "text/plain": [
       "<Figure size 432x288 with 1 Axes>"
      ]
     },
     "metadata": {
      "needs_background": "light"
     },
     "output_type": "display_data"
    }
   ],
   "source": [
    "training_loss = history.history['loss']\n",
    "validation_loss = history.history['val_loss']\n",
    "\n",
    "fig =  plt.figure()\n",
    "plt.plot(training_loss,label = 'training loss')\n",
    "plt.plot(training_loss,'o')\n",
    "plt.plot(validation_loss, label = 'validation loss')\n",
    "plt.plot(validation_loss, 'o')\n",
    "plt.legend()\n",
    "plt.xticks(size = 12)\n",
    "plt.yticks(size = 12)"
   ]
  },
  {
   "cell_type": "markdown",
   "metadata": {},
   "source": [
    "As you can see, after 3rd epoch the validation loss and training loss cross each other. This is important! Do you know why? Now we have a trained model and we're ready to make predictions. Usually, one would have a test set (so in total one would have; a training set, a validation set AND a test set). But for simplicity, let's just predict on the validation sample. This is OK because the model has not trained on this set - if we asked the model to predict on examples on which it has trained, we would be cheating!"
   ]
  },
  {
   "cell_type": "code",
   "execution_count": 7,
   "metadata": {},
   "outputs": [
    {
     "name": "stdout",
     "output_type": "stream",
     "text": [
      "WARNING:tensorflow:Falling back from v2 loop because of error: Failed to find data adapter that can handle input: <class 'pandas.core.frame.DataFrame'>, <class 'NoneType'>\n"
     ]
    }
   ],
   "source": [
    "predictions = model.predict(input_valid) # this asks the trained model to make predictions on input_valid. Notice we're not giving it any truth values!"
   ]
  },
  {
   "cell_type": "markdown",
   "metadata": {},
   "source": [
    "We can now evaluate our predictions by producing a ROC-curve and calculating the AUC-score and comparing it to our 'nnbjet' competitor. You can read more about ROC curves and AUC scores in \n",
    "https://mlwhiz.com/blog/2021/02/03/roc-auc-curves-explained/ (and by attending Troel's lectures!)"
   ]
  },
  {
   "cell_type": "code",
   "execution_count": 8,
   "metadata": {},
   "outputs": [
    {
     "data": {
      "image/png": "[encoded data removed]",
      "text/plain": [
       "<Figure size 720x720 with 1 Axes>"
      ]
     },
     "metadata": {
      "needs_background": "light"
     },
     "output_type": "display_data"
    }
   ],
   "source": [
    "fpr, tpr, _ = roc_curve(truth_valid, predictions)  ## this calculates the false positive rate and the true positive rate for our model's predictions on the validation sample\n",
    "fpr_nnbjet, tpr_nnbjet, _ = roc_curve(truth,benchmark) ## this calculates the false positive rate and the true postive rate for nnbjet on the entire data sample\n",
    "\n",
    "### We can npw calculate the AUC scores of these ROC-curves\n",
    "auc_score = auc(fpr,tpr)                      # this is auc score for our model\n",
    "auc_score_nnbjet = auc(fpr_nnbjet, tpr_nnbjet)# this is the auc score for nnbjet\n",
    "\n",
    "\n",
    "### Let's plot the results\n",
    "\n",
    "fig = plt.figure(figsize = [10,10])\n",
    "plt.title('ROC Comparison', size = 12)\n",
    "plt.plot(fpr,tpr, label = 'our model')\n",
    "plt.plot(fpr_nnbjet, tpr_nnbjet, label = 'nnbjet')\n",
    "plt.legend()\n",
    "plt.xlabel('False Postive Rate', size = 12)\n",
    "plt.ylabel('True Positive Rate', size = 12)\n",
    "### This just plots a table with the AUC-scores.\n",
    "row_labels=['our model',\n",
    "            'nnbjet']\n",
    "table_vals=[[round(auc_score,5)],\n",
    "            [round(auc_score_nnbjet,5)]]\n",
    "col_labels=['AUC']\n",
    "the_table = plt.table(cellText=table_vals,\n",
    "                  colWidths = [0.1]*3,\n",
    "                  rowLabels=row_labels,\n",
    "                  colLabels=col_labels,\n",
    "                  loc='center right')\n",
    "########\n",
    "\n"
   ]
  },
  {
   "cell_type": "markdown",
   "metadata": {},
   "source": [
    "So our __very__ simple and un-optimized model achieves a wee bit higher AUC score than nnbjet. (higher is better). Can you beat this? "
   ]
  }
 ],
 "metadata": {
  "kernelspec": {
   "display_name": "Python 3",
   "language": "python",
   "name": "python3"
  },
  "language_info": {
   "codemirror_mode": {
    "name": "ipython",
    "version": 3
   },
   "file_extension": ".py",
   "mimetype": "text/x-python",
   "name": "python",
   "nbconvert_exporter": "python",
   "pygments_lexer": "ipython3",
   "version": "3.7.6"
  }
 },
 "nbformat": 4,
 "nbformat_minor": 4
}
