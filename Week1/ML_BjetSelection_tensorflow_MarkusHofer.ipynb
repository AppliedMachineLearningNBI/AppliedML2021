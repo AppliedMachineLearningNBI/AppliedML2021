{
 "cells": [
  {
   "cell_type": "markdown",
   "metadata": {},
   "source": [
    "# Bjet Classification using TensorFlow\n",
    "Markus Hofer\n",
    "\n",
    "As Overfitting and Hyperparameters are discussed next week, this implementation is only very basics, however it should give the reader an idea of how to implement simple NN in Tensorflow for binary classification. "
   ]
  },
  {
   "cell_type": "markdown",
   "metadata": {},
   "source": [
    "## Setup "
   ]
  },
  {
   "cell_type": "code",
   "execution_count": 1,
   "metadata": {
    "ExecuteTime": {
     "end_time": "2021-04-29T06:43:34.616960Z",
     "start_time": "2021-04-29T06:43:34.613620Z"
    }
   },
   "outputs": [],
   "source": [
    "# import libaries \n",
    "import numpy as np \n",
    "import matplotlib.pyplot as plt \n",
    "import tensorflow as tf\n",
    "import pandas as pd \n",
    "import optuna as opt \n",
    "import sklearn as sk\n",
    "import seaborn as sns"
   ]
  },
  {
   "cell_type": "code",
   "execution_count": 2,
   "metadata": {
    "ExecuteTime": {
     "end_time": "2021-04-29T06:43:35.508241Z",
     "start_time": "2021-04-29T06:43:35.169289Z"
    }
   },
   "outputs": [],
   "source": [
    "# load data and select correct columns\n",
    "data = pd.read_fwf('AlephBtag_MC_small_v2.csv')\n",
    "features = [\"prob_b\", \"spheri\", \"pt2rel\", \"multip\", \"bqvjet\", \"ptlrel\"] # only the same as nn1990 \n",
    "\n",
    "X = data[features]\n",
    "y = data[\"isb\"]"
   ]
  },
  {
   "cell_type": "code",
   "execution_count": 3,
   "metadata": {
    "ExecuteTime": {
     "end_time": "2021-04-29T06:43:35.646273Z",
     "start_time": "2021-04-29T06:43:35.608103Z"
    }
   },
   "outputs": [],
   "source": [
    "# Preprocess and split data\n",
    "transformer = sk.preprocessing.RobustScaler() # configure the transformation based on the data \n",
    "transformer.fit(X) # apply transformationn\n",
    "\n",
    "X_train, X_test, y_train, y_test = sk.model_selection.train_test_split( X, y,\n",
    "                                                                       test_size=0.20, \n",
    "                                                                       random_state=42) # split into training and testing set"
   ]
  },
  {
   "cell_type": "markdown",
   "metadata": {},
   "source": [
    "## NN1990"
   ]
  },
  {
   "cell_type": "code",
   "execution_count": 4,
   "metadata": {
    "ExecuteTime": {
     "end_time": "2021-04-29T06:44:15.551800Z",
     "start_time": "2021-04-29T06:44:15.513664Z"
    }
   },
   "outputs": [],
   "source": [
    "# define and complie model \n",
    "m1 = tf.keras.Sequential([\n",
    "    tf.keras.layers.Dense(10, input_shape = (6,), activation='relu'), # 10 nodes in a Dense Layer\n",
    "    tf.keras.layers.Dense(10, activation='relu'),  # 10 nodes in a Dense Layer\n",
    "    tf.keras.layers.Dense(1, activation='sigmoid')]) # \n",
    "\n",
    "m1.compile(loss='binary_crossentropy', optimizer='adam', metrics=['accuracy'])"
   ]
  },
  {
   "cell_type": "code",
   "execution_count": 5,
   "metadata": {
    "ExecuteTime": {
     "end_time": "2021-04-29T06:44:16.031166Z",
     "start_time": "2021-04-29T06:44:16.017614Z"
    },
    "scrolled": true
   },
   "outputs": [
    {
     "name": "stdout",
     "output_type": "stream",
     "text": [
      "Model: \"sequential\"\n",
      "_________________________________________________________________\n",
      "Layer (type)                 Output Shape              Param #   \n",
      "=================================================================\n",
      "dense (Dense)                (None, 10)                70        \n",
      "_________________________________________________________________\n",
      "dense_1 (Dense)              (None, 10)                110       \n",
      "_________________________________________________________________\n",
      "dense_2 (Dense)              (None, 1)                 11        \n",
      "=================================================================\n",
      "Total params: 191\n",
      "Trainable params: 191\n",
      "Non-trainable params: 0\n",
      "_________________________________________________________________\n"
     ]
    }
   ],
   "source": [
    "m1.summary() # returns an overview of the NN"
   ]
  },
  {
   "cell_type": "code",
   "execution_count": 6,
   "metadata": {
    "ExecuteTime": {
     "end_time": "2021-04-29T06:44:47.231557Z",
     "start_time": "2021-04-29T06:44:27.869132Z"
    }
   },
   "outputs": [
    {
     "name": "stdout",
     "output_type": "stream",
     "text": [
      "WARNING:tensorflow:Falling back from v2 loop because of error: Failed to find data adapter that can handle input: <class 'pandas.core.frame.DataFrame'>, <class 'NoneType'>\n",
      "Train on 27174 samples\n",
      "Epoch 1/5\n",
      "27174/27174 [==============================] - 1s 51us/sample - loss: 0.3711 - accuracy: 0.8481\n",
      "Epoch 2/5\n",
      "27174/27174 [==============================] - 1s 40us/sample - loss: 0.2691 - accuracy: 0.8984\n",
      "Epoch 3/5\n",
      "27174/27174 [==============================] - 1s 43us/sample - loss: 0.2670 - accuracy: 0.8983\n",
      "Epoch 4/5\n",
      "27174/27174 [==============================] - 1s 39us/sample - loss: 0.2658 - accuracy: 0.8984\n",
      "Epoch 5/5\n",
      "27174/27174 [==============================] - 1s 40us/sample - loss: 0.2650 - accuracy: 0.8992\n"
     ]
    },
    {
     "data": {
      "text/plain": [
       "<tensorflow.python.keras.callbacks.History at 0x7ffbaa838e10>"
      ]
     },
     "execution_count": 6,
     "metadata": {},
     "output_type": "execute_result"
    }
   ],
   "source": [
    "m1.fit(X_train, y_train, epochs=5) # training "
   ]
  },
  {
   "cell_type": "code",
   "execution_count": 7,
   "metadata": {
    "ExecuteTime": {
     "end_time": "2021-04-29T06:44:56.079114Z",
     "start_time": "2021-04-29T06:44:55.761461Z"
    }
   },
   "outputs": [
    {
     "name": "stdout",
     "output_type": "stream",
     "text": [
      "WARNING:tensorflow:Falling back from v2 loop because of error: Failed to find data adapter that can handle input: <class 'pandas.core.frame.DataFrame'>, <class 'NoneType'>\n"
     ]
    }
   ],
   "source": [
    "pred = m1.predict(X_test) # generate predictions"
   ]
  },
  {
   "cell_type": "markdown",
   "metadata": {
    "ExecuteTime": {
     "end_time": "2021-04-29T06:35:07.921868Z",
     "start_time": "2021-04-29T06:35:07.914876Z"
    }
   },
   "source": [
    "## Alternative Neural Network "
   ]
  },
  {
   "cell_type": "code",
   "execution_count": 8,
   "metadata": {
    "ExecuteTime": {
     "end_time": "2021-04-29T06:42:58.129306Z",
     "start_time": "2021-04-29T06:42:58.085222Z"
    }
   },
   "outputs": [],
   "source": [
    "m2 = tf.keras.Sequential([\n",
    "    tf.keras.layers.Dense(12, input_shape = (6,), activation='relu'),\n",
    "    tf.keras.layers.Dense(6, activation='relu'),  \n",
    "    tf.keras.layers.Dense(3, activation='relu'),  \n",
    "    tf.keras.layers.Dense(1, activation='sigmoid')])\n",
    "\n",
    "m2.compile(loss='binary_crossentropy', optimizer=\"adam\", metrics=['accuracy'])"
   ]
  },
  {
   "cell_type": "code",
   "execution_count": 9,
   "metadata": {
    "ExecuteTime": {
     "end_time": "2021-04-29T06:43:21.059553Z",
     "start_time": "2021-04-29T06:42:58.615797Z"
    }
   },
   "outputs": [
    {
     "name": "stdout",
     "output_type": "stream",
     "text": [
      "WARNING:tensorflow:Falling back from v2 loop because of error: Failed to find data adapter that can handle input: <class 'pandas.core.frame.DataFrame'>, <class 'NoneType'>\n",
      "Train on 27174 samples\n",
      "Epoch 1/5\n",
      "27174/27174 [==============================] - 2s 56us/sample - loss: 0.3673 - accuracy: 0.8391\n",
      "Epoch 2/5\n",
      "27174/27174 [==============================] - 1s 43us/sample - loss: 0.2669 - accuracy: 0.8991\n",
      "Epoch 3/5\n",
      "27174/27174 [==============================] - 1s 45us/sample - loss: 0.2654 - accuracy: 0.8988\n",
      "Epoch 4/5\n",
      "27174/27174 [==============================] - 1s 43us/sample - loss: 0.2654 - accuracy: 0.8986\n",
      "Epoch 5/5\n",
      "27174/27174 [==============================] - 1s 50us/sample - loss: 0.2648 - accuracy: 0.8985\n"
     ]
    },
    {
     "data": {
      "text/plain": [
       "<tensorflow.python.keras.callbacks.History at 0x7ffbac48bb10>"
      ]
     },
     "execution_count": 9,
     "metadata": {},
     "output_type": "execute_result"
    }
   ],
   "source": [
    "m2.fit(X_train, y_train, epochs=5)"
   ]
  },
  {
   "cell_type": "code",
   "execution_count": 10,
   "metadata": {
    "ExecuteTime": {
     "end_time": "2021-04-29T06:45:02.370476Z",
     "start_time": "2021-04-29T06:45:02.001255Z"
    }
   },
   "outputs": [
    {
     "name": "stdout",
     "output_type": "stream",
     "text": [
      "WARNING:tensorflow:Falling back from v2 loop because of error: Failed to find data adapter that can handle input: <class 'pandas.core.frame.DataFrame'>, <class 'NoneType'>\n"
     ]
    }
   ],
   "source": [
    "pred2 = m2.predict(X_test)"
   ]
  },
  {
   "cell_type": "markdown",
   "metadata": {},
   "source": [
    "## Displaying ROC curves for the two Models "
   ]
  },
  {
   "cell_type": "code",
   "execution_count": 11,
   "metadata": {
    "ExecuteTime": {
     "end_time": "2021-04-29T06:45:24.109140Z",
     "start_time": "2021-04-29T06:45:23.912884Z"
    }
   },
   "outputs": [
    {
     "data": {
      "image/png": "[encoded data removed]",
      "text/plain": [
       "<Figure size 576x432 with 1 Axes>"
      ]
     },
     "metadata": {
      "needs_background": "light"
     },
     "output_type": "display_data"
    }
   ],
   "source": [
    "plt.figure(figsize=(8, 6)) \n",
    "\n",
    "# calc  and print roc curves for nn1990\n",
    "\n",
    "fpr_nn, tpr_nn, thresholds_nn  = sk.metrics.roc_curve(y_test,pred )\n",
    "roc_auc_nn = sk.metrics.auc(fpr_nn, tpr_nn)\n",
    "\n",
    "plt.plot(fpr_nn,tpr_nn,label=\"nn1990, auc=\"+str(roc_auc_nn)) \n",
    "\n",
    "# calc  and print roc curves for the alternative NN\n",
    "fpr_nn, tpr_nn, thresholds_nn  = sk.metrics.roc_curve(y_test,pred2 )\n",
    "roc_auc_nn = sk.metrics.auc(fpr_nn, tpr_nn)\n",
    "\n",
    "plt.plot(fpr_nn,tpr_nn,label=\"alternative, auc=\"+str(roc_auc_nn))\n",
    "\n",
    "plt.xlabel(\"Background\")\n",
    "plt.ylabel(\"True Positive\")\n",
    "plt.legend();"
   ]
  },
  {
   "cell_type": "code",
   "execution_count": null,
   "metadata": {},
   "outputs": [],
   "source": []
  }
 ],
 "metadata": {
  "kernelspec": {
   "display_name": "Python 3",
   "language": "python",
   "name": "python3"
  },
  "language_info": {
   "codemirror_mode": {
    "name": "ipython",
    "version": 3
   },
   "file_extension": ".py",
   "mimetype": "text/x-python",
   "name": "python",
   "nbconvert_exporter": "python",
   "pygments_lexer": "ipython3",
   "version": "3.7.6"
  },
  "latex_envs": {
   "LaTeX_envs_menu_present": true,
   "autoclose": false,
   "autocomplete": true,
   "bibliofile": "biblio.bib",
   "cite_by": "apalike",
   "current_citInitial": 1,
   "eqLabelWithNumbers": true,
   "eqNumInitial": 1,
   "hotkeys": {
    "equation": "Ctrl-E",
    "itemize": "Ctrl-I"
   },
   "labels_anchors": false,
   "latex_user_defs": false,
   "report_style_numbering": false,
   "user_envs_cfg": false
  },
  "nbTranslate": {
   "displayLangs": [
    "*"
   ],
   "hotkey": "alt-t",
   "langInMainMenu": true,
   "sourceLang": "en",
   "targetLang": "fr",
   "useGoogleTranslate": true
  },
  "toc": {
   "base_numbering": 1,
   "nav_menu": {},
   "number_sections": true,
   "sideBar": true,
   "skip_h1_title": false,
   "title_cell": "Table of Contents",
   "title_sidebar": "Contents",
   "toc_cell": false,
   "toc_position": {},
   "toc_section_display": true,
   "toc_window_display": false
  },
  "varInspector": {
   "cols": {
    "lenName": 16,
    "lenType": 16,
    "lenVar": 40
   },
   "kernels_config": {
    "python": {
     "delete_cmd_postfix": "",
     "delete_cmd_prefix": "del ",
     "library": "var_list.py",
     "varRefreshCmd": "print(var_dic_list())"
    },
    "r": {
     "delete_cmd_postfix": ") ",
     "delete_cmd_prefix": "rm(",
     "library": "var_list.r",
     "varRefreshCmd": "cat(var_dic_list()) "
    }
   },
   "types_to_exclude": [
    "module",
    "function",
    "builtin_function_or_method",
    "instance",
    "_Feature"
   ],
   "window_display": false
  }
 },
 "nbformat": 4,
 "nbformat_minor": 4
}
