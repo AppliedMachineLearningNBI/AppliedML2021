{
 "cells": [
  {
   "cell_type": "markdown",
   "metadata": {},
   "source": [
    "#  k-Nearest Neighbors algorithm\n",
    "\n",
    "For further reading this tutorial is recomended\n",
    "\n",
    "http://machinelearningmastery.com/tutorial-to-implement-k-nearest-neighbors-in-python-from-scratch/'\n",
    "\n",
    "First we will generate random numbers with very simple differences, and use them to understand KNN. The data will overlap, but we hope to find a clear tendency.\n",
    "\n",
    "<img src=\"https://upload.wikimedia.org/wikipedia/en/c/c1/Return_to_Plain_Awful_-_Huey_Dewey_and_Louie.jpg\">\n",
    "\n",
    "We will model Huey, Dewey and Louie - who share a room for at any point in time does have an afinity to stay close to their own bed.\n"
   ]
  },
  {
   "cell_type": "code",
   "execution_count": 1,
   "metadata": {},
   "outputs": [
    {
     "data": {
      "image/png": "[encoded data removed]",
      "text/plain": [
       "<Figure size 432x288 with 1 Axes>"
      ]
     },
     "metadata": {
      "needs_background": "light"
     },
     "output_type": "display_data"
    }
   ],
   "source": [
    "import numpy\n",
    "import matplotlib.pyplot as plt\n",
    "\n",
    "data = numpy.zeros((500,3))\n",
    "data[:,0] = numpy.random.choice([-0.5, 0.0, 0.5],size=500)\n",
    "data[:, 1:] = numpy.random.normal(0.5, 0.15, (500,2))\n",
    "\n",
    "#Structure data in label and positions\n",
    "labels = data[:, 0]\n",
    "position = data[:, 1:]\n",
    "\n",
    "#Introduce bias to data\n",
    "position[:, 0] += labels\n",
    "\n",
    "#Views for nicer viewing\n",
    "huey =  position[labels == -0.5]\n",
    "dewey = position[labels ==  0.0]\n",
    "louie = position[labels ==  0.5]\n",
    "\n",
    "plt.plot(huey[:, 0], huey[:, 1]  , 'bo')\n",
    "plt.plot(dewey[:,0], dewey[:, 1] , 'ro')\n",
    "plt.plot(louie[:,0], louie[:, 1] , 'go')\n",
    "plt.show()"
   ]
  },
  {
   "cell_type": "markdown",
   "metadata": {},
   "source": [
    "Now we can easily make a function that finds the euclidean distance between a new point and all points in the room."
   ]
  },
  {
   "cell_type": "code",
   "execution_count": 2,
   "metadata": {},
   "outputs": [],
   "source": [
    "def all_dist(observation, data):\n",
    "    return numpy.sqrt((data[:, 0] - observation[0])**2 + (data[:, 1] - observation[1])**2)"
   ]
  },
  {
   "cell_type": "code",
   "execution_count": 3,
   "metadata": {},
   "outputs": [
    {
     "name": "stdout",
     "output_type": "stream",
     "text": [
      "[-0.5, -0.5, -0.5, -0.5, -0.5]\n"
     ]
    }
   ],
   "source": [
    "distances = all_dist((0,0), position)\n",
    "votes = []\n",
    "for _ in range(5):\n",
    "    winner = numpy.argmin(distances)\n",
    "    votes.append(labels[winner])\n",
    "    distances[winner] = 1000 #Just set so high that it cannot win again\n",
    "print(votes)"
   ]
  },
  {
   "cell_type": "code",
   "execution_count": 4,
   "metadata": {},
   "outputs": [
    {
     "name": "stdout",
     "output_type": "stream",
     "text": [
      "I guess Huey\n"
     ]
    }
   ],
   "source": [
    "import collections\n",
    "winner = collections.Counter(votes).most_common(1)[0][0] #Counter returns a list of tuples\n",
    "if winner == -0.5:\n",
    "    print('I guess Huey')\n",
    "elif winner == 0.0:\n",
    "    print('I guess Dewey')\n",
    "elif winner == 0.5:\n",
    "    print('I guess Louie')"
   ]
  },
  {
   "cell_type": "markdown",
   "metadata": {},
   "source": [
    "Lets produce a set of random Dewey positions and see how well we fare."
   ]
  },
  {
   "cell_type": "code",
   "execution_count": 5,
   "metadata": {},
   "outputs": [
    {
     "name": "stdout",
     "output_type": "stream",
     "text": [
      "Got it wrong in 13 cases of 100\n"
     ]
    }
   ],
   "source": [
    "wrong = 0\n",
    "for _ in range(100):\n",
    "    distances = all_dist(numpy.random.normal(0.5, 0.15, 2), position)\n",
    "    votes = []\n",
    "    for _ in range(5):\n",
    "        winner = numpy.argmin(distances)\n",
    "        votes.append(labels[winner])\n",
    "        distances[winner] = 1000 #Just set so high that it cannot win again\n",
    "    winner = collections.Counter(votes).most_common(1)[0][0] #Counter returns a list of tuples\n",
    "    if winner != 0.0:\n",
    "        wrong += 1\n",
    "print('Got it wrong in',wrong,'cases of 100')"
   ]
  },
  {
   "cell_type": "markdown",
   "metadata": {},
   "source": [
    "So obviously, while we should get most correct classifications, the afinity of our ducklings is not sufficient to get it right every time."
   ]
  }
 ],
 "metadata": {
  "kernelspec": {
   "display_name": "Python 3",
   "language": "python",
   "name": "python3"
  },
  "language_info": {
   "codemirror_mode": {
    "name": "ipython",
    "version": 3
   },
   "file_extension": ".py",
   "mimetype": "text/x-python",
   "name": "python",
   "nbconvert_exporter": "python",
   "pygments_lexer": "ipython3",
   "version": "3.7.6"
  }
 },
 "nbformat": 4,
 "nbformat_minor": 2
}
