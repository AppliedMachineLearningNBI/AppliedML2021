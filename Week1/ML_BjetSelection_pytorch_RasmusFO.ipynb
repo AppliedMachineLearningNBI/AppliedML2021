{
 "cells": [
  {
   "cell_type": "markdown",
   "metadata": {},
   "source": [
    "Hi! This is a pytorch classification example built with inspiration from https://towardsdatascience.com/pytorch-tabular-binary-classification-a0368da5bb89\n",
    "\n",
    "The link contains additional explanitory text and short 5-minute youtube video explaining core concepts."
   ]
  },
  {
   "cell_type": "code",
   "execution_count": 1,
   "metadata": {},
   "outputs": [
    {
     "name": "stdout",
     "output_type": "stream",
     "text": [
      "Index(['energy', 'cTheta', 'phi', 'prob_b', 'spheri', 'pt2rel', 'multip',\n",
      "       'bqvjet', 'ptlrel', 'nnbjet', 'isb'],\n",
      "      dtype='object')\n"
     ]
    }
   ],
   "source": [
    "### PYTORCH CLASSIFICATION EXAMPLE\n",
    "# \n",
    "# Author: Rasmus F. Ørsøe\n",
    "# email: pcs557@alumni.ku.dk\n",
    "#\n",
    "\n",
    "import pandas as pd\n",
    "import numpy as np\n",
    "import sklearn as sk\n",
    "import torch\n",
    "import torch.nn as nn\n",
    "import torch.optim as optim\n",
    "from torch.utils.data import Dataset, DataLoader\n",
    "from torch.nn import CrossEntropyLoss\n",
    "\n",
    "from sklearn.model_selection import train_test_split\n",
    "import matplotlib.pyplot as plt\n",
    "from sklearn.metrics import roc_curve\n",
    "from sklearn.metrics import auc\n",
    "from scipy.special import expit\n",
    "\n",
    "# Load 2nd version of the Aleph Data. Why not the first?\n",
    "path = 'AlephBtag_MC_small_v2.csv'\n",
    "data = pd.DataFrame(np.genfromtxt(path, names=True))\n",
    "variables = data.columns\n",
    "print(variables)"
   ]
  },
  {
   "cell_type": "markdown",
   "metadata": {},
   "source": [
    "Remember: 'isb' is our binary truth. If isb = 1 then it's a b-quark and isb = 0 if it is not. Because this is our truth, we must not include it as the input to our model. Also, 'nnbjet' is our \"competitor\" e.g. a model we are supposed to benchmark against. Therefore 'nnbjet' shouldn't be in our input either. Usually one would apply regularization/standardization of data at this step - but lets skip this for now and just move onto seperate the data into input, truth and benchmark:"
   ]
  },
  {
   "cell_type": "code",
   "execution_count": 2,
   "metadata": {},
   "outputs": [
    {
     "name": "stdout",
     "output_type": "stream",
     "text": [
      "Index(['energy', 'cTheta', 'phi', 'prob_b', 'spheri', 'pt2rel', 'multip',\n",
      "       'bqvjet', 'ptlrel'],\n",
      "      dtype='object')\n"
     ]
    }
   ],
   "source": [
    "input_variables = variables[(variables != 'nnbjet') & (variables != 'isb')]\n",
    "input_data      = data[input_variables]\n",
    "truth           = data['isb']\n",
    "benchmark       = data['nnbjet']\n",
    "print(input_variables)"
   ]
  },
  {
   "cell_type": "markdown",
   "metadata": {},
   "source": [
    "Let us now divide the truth and input_data into two parts; a training sample and a validation sample:"
   ]
  },
  {
   "cell_type": "code",
   "execution_count": 3,
   "metadata": {},
   "outputs": [],
   "source": [
    "input_train, input_valid, truth_train, truth_valid = train_test_split(input_data, truth, test_size=0.25, random_state=42)"
   ]
  },
  {
   "cell_type": "markdown",
   "metadata": {},
   "source": [
    "Before we go any further, we need to put this data into the pytorch-Dataset class, such that we can extract it during training. This is a little annoying, but it's worth the effort."
   ]
  },
  {
   "cell_type": "code",
   "execution_count": 4,
   "metadata": {},
   "outputs": [
    {
     "name": "stdout",
     "output_type": "stream",
     "text": [
      "tensor([[ 3.5892e+01,  6.2160e-01,  6.8090e-01,  ...,  5.5970e-01,\n",
      "          7.5530e-01, -3.0000e-04],\n",
      "        [ 4.0348e+01, -5.0370e-01,  6.2080e-01,  ...,  2.2580e-01,\n",
      "          2.0600e-02, -3.0000e-04],\n",
      "        [ 5.0639e+01,  1.9310e-01,  2.8763e+00,  ...,  2.5530e-01,\n",
      "          4.5800e-02, -3.0000e-04],\n",
      "        ...,\n",
      "        [ 4.4190e+01,  7.6860e-01, -6.5920e-01,  ...,  3.5270e-01,\n",
      "          5.6000e-03, -3.0000e-04],\n",
      "        [ 4.2710e+01, -2.7400e-02,  3.3280e-01,  ...,  2.6690e-01,\n",
      "          4.5620e-01,  3.7260e-01],\n",
      "        [ 4.8249e+01,  3.1340e-01,  1.5721e+00,  ...,  2.5850e-01,\n",
      "          1.5900e-02, -3.0000e-04]])\n",
      "tensor([1., 0., 0.,  ..., 0., 1., 0.])\n"
     ]
    }
   ],
   "source": [
    "## train data\n",
    "class MyDataset(Dataset):    \n",
    "    def __init__(self, X_data, y_data):\n",
    "        self.input = X_data\n",
    "        self.truth = y_data\n",
    "        \n",
    "    def __getitem__(self, index):\n",
    "        return self.input[index], self.truth[index]\n",
    "        \n",
    "    def __len__ (self):\n",
    "        return len(self.input)\n",
    "\n",
    "\n",
    "train_data = MyDataset(torch.FloatTensor(np.array(input_train)), \n",
    "                       torch.FloatTensor(np.array(truth_train)))\n",
    "valid_data = MyDataset(torch.FloatTensor(np.array(input_valid)), \n",
    "                       torch.FloatTensor(np.array(truth_valid)))\n",
    "\n",
    "## We can now access input_train via train_data.input and truth_train via train_data.truth, and similarly for input_valid and truth_valid.\n",
    "print(train_data.input)\n",
    "print(train_data.truth)"
   ]
  },
  {
   "cell_type": "markdown",
   "metadata": {},
   "source": [
    "Let us now define the pytorch model:"
   ]
  },
  {
   "cell_type": "code",
   "execution_count": 5,
   "metadata": {},
   "outputs": [],
   "source": [
    "class OurModel(nn.Module):\n",
    "    def __init__(self):\n",
    "        super(OurModel, self).__init__()        # Here we define the layers\n",
    "        self.input_layer = nn.Linear(9, 24) \n",
    "        self.hidden_layer1 = nn.Linear(24, 24)\n",
    "        self.hidden_layer2 = nn.Linear(24, 12)\n",
    "        self.output_layer = nn.Linear(12, 2) \n",
    "        self.relu = nn.ReLU()\n",
    "        \n",
    "    def forward(self, inputs):                           # Here we define how data passes through the layers. \n",
    "        x = self.input_layer(inputs)\n",
    "        x = self.relu(x)\n",
    "        x = self.hidden_layer1(x)\n",
    "        x = self.relu(x)\n",
    "        x =  self.hidden_layer2(x)\n",
    "        x = self.relu(x)\n",
    "        x = self.output_layer(x)\n",
    "        return x\n",
    "\n",
    "   "
   ]
  },
  {
   "cell_type": "markdown",
   "metadata": {},
   "source": [
    "Now we need to write our training loop! "
   ]
  },
  {
   "cell_type": "code",
   "execution_count": 6,
   "metadata": {},
   "outputs": [
    {
     "name": "stdout",
     "output_type": "stream",
     "text": [
      "EPOCH: 1 | training loss: 0.479  | validation loss: 0.303\n",
      "EPOCH: 2 | training loss: 0.294  | validation loss: 0.27\n",
      "EPOCH: 3 | training loss: 0.275  | validation loss: 0.308\n",
      "EPOCH: 4 | training loss: 0.271  | validation loss: 0.261\n",
      "EPOCH: 5 | training loss: 0.267  | validation loss: 0.297\n",
      "EPOCH: 6 | training loss: 0.268  | validation loss: 0.265\n",
      "EPOCH: 7 | training loss: 0.268  | validation loss: 0.259\n",
      "EPOCH: 8 | training loss: 0.268  | validation loss: 0.272\n",
      "EPOCH: 9 | training loss: 0.266  | validation loss: 0.258\n",
      "EPOCH: 10 | training loss: 0.267  | validation loss: 0.265\n"
     ]
    }
   ],
   "source": [
    "\n",
    "def Train(model,optimizer, loss_function, train_loader,validation_loader, device, epochs):\n",
    "    validation_loss = []\n",
    "    training_loss   = []\n",
    "    model.train()\n",
    "    for e in range(0, epochs):\n",
    "        epoch_loss = 0\n",
    "        n_minibatches = 0\n",
    "        for input_train_batch, truth_train_batch in train_loader:\n",
    "            input_train_batch, truth_train_batch = input_train_batch.to(device), truth_train_batch.to(device)\n",
    "            optimizer.zero_grad()\n",
    "            prediction = model(input_train_batch)   # this asks our model to produce predictions on the training batch\n",
    "            \n",
    "            loss = loss_function(prediction, truth_train_batch.long()) # this calculates the loss\n",
    "\n",
    "            loss.backward()                              # This initiates the backpropagation\n",
    "            optimizer.step()\n",
    "\n",
    "            epoch_loss += loss.item()\n",
    "            n_minibatches += 1\n",
    "        \n",
    "        valid_loss = Validate(model, validation_loader, device, loss_function)   # Now that the model have trained 1 epoch, we evaluate the model on the validation set!\n",
    "        validation_loss.append(valid_loss)\n",
    "        training_loss.append(epoch_loss/n_minibatches)\n",
    "        print('EPOCH: %s | training loss: %s  | validation loss: %s'%(e+1,round(epoch_loss/n_minibatches,3), round(valid_loss, 3)))\n",
    "    return training_loss, validation_loss\n",
    "\n",
    "def Validate(model, validation_loader, device, loss_function):\n",
    "    model.eval()\n",
    "    n_batches  = 0\n",
    "    validation_loss = 0\n",
    "    with torch.no_grad():\n",
    "        for input_valid_batch, truth_valid_batch in validation_loader:\n",
    "            input_valid_batch, truth_valid_batch = input_valid_batch.to(device), truth_valid_batch.to(device)\n",
    "            prediction = model(input_valid_batch)\n",
    "            loss = loss_function(prediction, truth_valid_batch.long())\n",
    "            validation_loss += loss.item()\n",
    "            n_batches += 1\n",
    "    validation_loss = validation_loss/n_batches\n",
    "    return validation_loss\n",
    "\n",
    "def Predict(model, prediction_loader, device):\n",
    "    model.eval()\n",
    "    predictions = []\n",
    "    print('PREDICTING!')\n",
    "    with torch.no_grad():\n",
    "        for input_pred_batch, _ in validation_loader:\n",
    "            input_pred_batch = input_pred_batch.to(device)\n",
    "            prediction = model(input_pred_batch)\n",
    "            predictions.extend(prediction.numpy())\n",
    "    print('Done Predicting!')\n",
    "    return predictions\n",
    "            \n",
    "            \n",
    "    \n",
    "\n",
    "learning_rate = 1e-3\n",
    "batch_size    = 32\n",
    "n_epochs      = 10\n",
    "\n",
    "device = torch.device('cuda' if torch.cuda.is_available() else 'cpu')\n",
    "model = OurModel() \n",
    "model.to(device)  ## mounts the model to the selected device. Either cpu or a GPU.\n",
    "optimizer = optim.Adam(model.parameters(), lr=learning_rate)\n",
    "loss_function = CrossEntropyLoss()\n",
    "train_loader = DataLoader(dataset=train_data, batch_size=batch_size, shuffle=True)\n",
    "validation_loader = DataLoader(dataset=valid_data, batch_size=batch_size)\n",
    "\n",
    "training_loss, validation_loss = Train(model, optimizer, loss_function, train_loader, validation_loader, device, n_epochs)\n",
    "## This trains the model on input_train by comparing to the true values in truth_train. After every epoch of training, the model is evaluated on the validation dataset, \n",
    "## namely input_valid and truth_valid.\n"
   ]
  },
  {
   "cell_type": "markdown",
   "metadata": {},
   "source": [
    "We can now extract information from the training and validation by accessing training_loss and validation_loss :"
   ]
  },
  {
   "cell_type": "code",
   "execution_count": 7,
   "metadata": {},
   "outputs": [
    {
     "data": {
      "text/plain": [
       "(array([0.2 , 0.25, 0.3 , 0.35, 0.4 , 0.45, 0.5 ]),\n",
       " <a list of 7 Text yticklabel objects>)"
      ]
     },
     "execution_count": 7,
     "metadata": {},
     "output_type": "execute_result"
    },
    {
     "data": {
      "image/png": "[encoded data removed]",
      "text/plain": [
       "<Figure size 432x288 with 1 Axes>"
      ]
     },
     "metadata": {
      "needs_background": "light"
     },
     "output_type": "display_data"
    }
   ],
   "source": [
    "\n",
    "fig =  plt.figure()\n",
    "plt.plot(training_loss,label = 'training loss')\n",
    "plt.plot(training_loss,'o')\n",
    "plt.plot(validation_loss, label = 'validation loss')\n",
    "plt.plot(validation_loss, 'o')\n",
    "plt.legend()\n",
    "plt.xticks(size = 12)\n",
    "plt.yticks(size = 12)"
   ]
  },
  {
   "cell_type": "markdown",
   "metadata": {},
   "source": [
    "As you can see, after 8th epoch the validation loss and training loss cross each other. This is important! Do you know why? Now we have a trained model and we're ready to make predictions. Usually, one would have a test set (so in total one would have; a training set, a validation set AND a test set). But for simplicity, let's just predict on the validation sample. This is OK because the model has not trained on this set - if we asked the model to predict on examples on which it has trained, we would be cheating!"
   ]
  },
  {
   "cell_type": "code",
   "execution_count": 8,
   "metadata": {},
   "outputs": [
    {
     "name": "stdout",
     "output_type": "stream",
     "text": [
      "PREDICTING!\n",
      "Done Predicting!\n"
     ]
    }
   ],
   "source": [
    "predictions = Predict(model,validation_loader,device) # this asks the trained model to make predictions on input_valid. Notice we're not giving it any truth values!\n",
    "\n",
    "### This bit of gymnastics is because the output of our model is raw logits from the final output layer.\n",
    "# This means it produces a pseudo score for each class (a score for 0 and a score for 1). \n",
    "# expit converts this logit to a number in [0,1]\n",
    "# We then combine the scores such that our_score = (1-score)/(1-score + 0-score)\n",
    "predictions = pd.DataFrame(predictions)\n",
    "predictions.columns = ['not_bquark', 'bquark']\n",
    "predictions['not_bquark'] = expit(predictions['not_bquark'])\n",
    "predictions['bquark'] = expit(predictions['bquark'])\n",
    "\n",
    "predictions = predictions['bquark']/(predictions['bquark'] + predictions['not_bquark'])\n"
   ]
  },
  {
   "cell_type": "markdown",
   "metadata": {},
   "source": [
    "We can now evaluate our predictions by producing a ROC-curve and calculating the AUC-score and comparing it to our 'nnbjet' competitor. You can read more about ROC curves and AUC scores in \n",
    "https://mlwhiz.com/blog/2021/02/03/roc-auc-curves-explained/ (and by attending Troel's lectures!)"
   ]
  },
  {
   "cell_type": "code",
   "execution_count": 9,
   "metadata": {},
   "outputs": [
    {
     "data": {
      "image/png": "[encoded data removed]",
      "text/plain": [
       "<Figure size 720x720 with 1 Axes>"
      ]
     },
     "metadata": {
      "needs_background": "light"
     },
     "output_type": "display_data"
    }
   ],
   "source": [
    "fpr, tpr, _ = roc_curve(truth_valid, predictions)  ## this calculates the false positive rate and the true positive rate for our model's predictions on the validation sample\n",
    "fpr_nnbjet, tpr_nnbjet, _ = roc_curve(truth,benchmark) ## this calculates the false positive rate and the true postive rate for nnbjet on the entire data sample\n",
    "\n",
    "### We can npw calculate the AUC scores of these ROC-curves\n",
    "auc_score = auc(fpr,tpr)                      # this is auc score for our model\n",
    "auc_score_nnbjet = auc(fpr_nnbjet, tpr_nnbjet)# this is the auc score for nnbjet\n",
    "\n",
    "\n",
    "### Let's plot the results\n",
    "\n",
    "fig = plt.figure(figsize = [10,10])\n",
    "plt.title('ROC Comparison', size = 12)\n",
    "plt.plot(fpr,tpr, label = 'our model')\n",
    "plt.plot(fpr_nnbjet, tpr_nnbjet, label = 'nnbjet')\n",
    "plt.legend()\n",
    "plt.xlabel('False Postive Rate', size = 12)\n",
    "plt.ylabel('True Positive Rate', size = 12)\n",
    "### This just plots a table with the AUC-scores.\n",
    "row_labels=['our model',\n",
    "            'nnbjet']\n",
    "table_vals=[[round(auc_score,5)],\n",
    "            [round(auc_score_nnbjet,5)]]\n",
    "col_labels=['AUC']\n",
    "the_table = plt.table(cellText=table_vals,\n",
    "                  colWidths = [0.1]*3,\n",
    "                  rowLabels=row_labels,\n",
    "                  colLabels=col_labels,\n",
    "                  loc='center right')\n",
    "########\n",
    "\n"
   ]
  },
  {
   "cell_type": "markdown",
   "metadata": {},
   "source": [
    "So our __very__ simple and un-optimized model achieves a wee bit higher AUC score than nnbjet. (higher is better). Can you beat this? "
   ]
  }
 ],
 "metadata": {
  "kernelspec": {
   "display_name": "Python 3",
   "language": "python",
   "name": "python3"
  },
  "language_info": {
   "codemirror_mode": {
    "name": "ipython",
    "version": 3
   },
   "file_extension": ".py",
   "mimetype": "text/x-python",
   "name": "python",
   "nbconvert_exporter": "python",
   "pygments_lexer": "ipython3",
   "version": "3.7.6"
  }
 },
 "nbformat": 4,
 "nbformat_minor": 4
}
