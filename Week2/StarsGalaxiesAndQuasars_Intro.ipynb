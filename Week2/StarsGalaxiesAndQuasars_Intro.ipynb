{
 "cells": [
  {
   "cell_type": "markdown",
   "metadata": {},
   "source": [
    "# Classification of stars, galaxies, and quasars\n",
    "\n",
    "Using a query, you should try to obtain three data files each contains 10000 observations of stars, galaxies, and quasars, respectively, which are distinctly different objects.\n",
    "\n",
    "As this is data resuting from a (raw) query, it has got several missing/9999 values and other flaws to consider, before applying any further data analysis. You need to fix this!\n",
    "\n",
    "Thus, this exercise first consists of **Inspecting and Cleaning the data**.\n",
    "\n",
    "### Features:\n",
    "The data features / input variables (X) are:\n",
    "* ID:   unique object ID in the database\n",
    "* ra:   right ascension (coordinate)\n",
    "* dec:  declination (coordinate)\n",
    "* istar:        log-likelihood that the object is point-like, given by the pipeline run on the images\n",
    "* gmag:  magnitude in g-band\n",
    "* rmag: magnitude in r-band\n",
    "* imag: magnitude in i-band\n",
    "* zmag: magnitude in z-band\n",
    "* W1:   magnitude in W1-band (from AllWISE)\n",
    "* W2:   magnitude in W2-band (from AllWISE)\n",
    "* psfgmag:      PSF magnitude in g-band (i.e. the best-fit magnitude of a point-like object fit to the pixel data)\n",
    "* psfrmag:      PSF magnitude in r-band (i.e. the best-fit magnitude of a point-like object fit to the pixel data)\n",
    "* psfimag:      PSF magnitude in i-band (i.e. the best-fit magnitude of a point-like object fit to the pixel data)\n",
    "* W3:   magnitude in W3-band (from AllWISE)\n",
    "* W3err:        uncertainty on magnitude in W1-band (from AllWISE)\n",
    "* J:    magnitude in J-band (from 2MASS, in AllWISE)\n",
    "* Jerr: uncertainty on J\n",
    "* H:    magnitude in J-band (from 2MASS, in AllWISE)\n",
    "* Herr: uncertainty on H\n",
    "* K:    magnitude in J-band (from 2MASS, in AllWISE)\n",
    "* Kerr: uncertainty on K\n",
    "* umag: magnitude in u-band\n",
    "* zs: \"true\" redshift\n",
    "\n",
    "Make sure that you shortly think about (and discuss) which of these features should be included, if you want to try to identify which type of object it is.\n",
    "\n",
    "Also, this time there is no target value (Y) given in the data. However, given the query selection (by other means) to be stars, galaxies, and quasars, you can consider the file type to be the target. But you need to put these three files together and add a column with the target (i.e. file origin) value.\n",
    "\n",
    "\n",
    "### Task:\n",
    "Thus, the task before you is to:<br>\n",
    "1) Make three queries, which produces three files of data containing stars, galaxies, and quasars.<br>\n",
    "2) Combine the three data files into one, which has a target value corresponding to the file type.<br>\n",
    "3) Read and inspect this data, and make sure that you understand what it (roughly) looks like.<br>\n",
    "4) Clean/cut (or impute) the data, such that different (unsupervised) analysis techniques will work.<br>\n",
    "5) Run a (k)PCA (and later other techniques) on it, and see what the resulting distributions looks like.<br>\n",
    "\n",
    "Do you in the end manage to get e.g. get three well separated classes out?<br>\n",
    "\n",
    "***\n",
    "\n",
    "* Author: Troels C. Petersen (NBI)\n",
    "* Email:  petersen@nbi.dk\n",
    "* Date:   3rd of May 2021"
   ]
  },
  {
   "cell_type": "code",
   "execution_count": 1,
   "metadata": {},
   "outputs": [],
   "source": [
    "from __future__ import print_function, division   # Ensures Python3 printing & division standard\n",
    "from matplotlib import pyplot as plt\n",
    "import numpy as np\n",
    "import pandas"
   ]
  }
 ],
 "metadata": {
  "kernelspec": {
   "display_name": "Python 3",
   "language": "python",
   "name": "python3"
  },
  "language_info": {
   "codemirror_mode": {
    "name": "ipython",
    "version": 3
   },
   "file_extension": ".py",
   "mimetype": "text/x-python",
   "name": "python",
   "nbconvert_exporter": "python",
   "pygments_lexer": "ipython3",
   "version": "3.7.6"
  }
 },
 "nbformat": 4,
 "nbformat_minor": 2
}
